{
  "cells": [
    {
      "cell_type": "markdown",
      "metadata": {
        "id": "J8y9ZkLXmAZc"
      },
      "source": [
        "# Tensorflow model for MNIST x Solidity\n",
        "\n",
        "Step 1: Train the model  \n",
        "Step 2: Verify we export the model correctly  \n",
        "Step 3: Export it for Solidity  \n",
        "Step 4: Export it, but only some part  \n",
        "Step 5: Compute accuracy of exported model: 60% 🚀😂😂😂🚀  "
      ]
    },
    {
      "cell_type": "markdown",
      "source": [
        "# Step 1: Train the model"
      ],
      "metadata": {
        "id": "VegVt690oZ3v"
      }
    },
    {
      "cell_type": "code",
      "execution_count": null,
      "metadata": {
        "id": "TTBSvHcSLBzc"
      },
      "outputs": [],
      "source": [
        "import tensorflow as tf\n",
        "import tensorflow_datasets as tfds\n",
        "\n",
        "(ds_train, ds_test), ds_info = tfds.load(\n",
        "    'mnist',\n",
        "    split=['train', 'test'],\n",
        "    shuffle_files=True,\n",
        "    as_supervised=True,\n",
        "    with_info=True,\n",
        ")\n",
        "\n",
        "def normalize_img(image, label):\n",
        "  \"\"\"Normalizes images: `uint8` -> `float32`.\"\"\"\n",
        "  return tf.cast(image, tf.float32) / 255., label\n",
        "\n",
        "ds_train = ds_train.map(\n",
        "    normalize_img, num_parallel_calls=tf.data.AUTOTUNE)\n",
        "ds_train = ds_train.cache()\n",
        "ds_train = ds_train.shuffle(ds_info.splits['train'].num_examples)\n",
        "ds_train = ds_train.batch(128)\n",
        "ds_train = ds_train.prefetch(tf.data.AUTOTUNE)\n",
        "\n",
        "ds_test = ds_test.map(\n",
        "    normalize_img, num_parallel_calls=tf.data.AUTOTUNE)\n",
        "ds_test = ds_test.batch(128)\n",
        "ds_test = ds_test.cache()\n",
        "ds_test = ds_test.prefetch(tf.data.AUTOTUNE)"
      ]
    },
    {
      "cell_type": "code",
      "execution_count": null,
      "metadata": {
        "id": "ZUMhCXhFXdHQ"
      },
      "outputs": [],
      "source": [
        "model = tf.keras.models.Sequential([\n",
        "  tf.keras.layers.Flatten(input_shape=(28, 28)),\n",
        "  #tf.keras.layers.Dense(128, activation='relu'),\n",
        "  tf.keras.layers.Dense(10)\n",
        "])\n",
        "model.compile(\n",
        "    optimizer=tf.keras.optimizers.Adam(0.001),\n",
        "    loss=tf.keras.losses.SparseCategoricalCrossentropy(from_logits=True),\n",
        "    metrics=[tf.keras.metrics.SparseCategoricalAccuracy()],\n",
        ")\n",
        "\n",
        "model.fit(\n",
        "    ds_train,\n",
        "    epochs=6,\n",
        "    validation_data=ds_test,\n",
        ")"
      ]
    },
    {
      "cell_type": "markdown",
      "metadata": {
        "id": "rgwCFAcWXQTx"
      },
      "source": [
        "# Step 2: Verify we export the model correctly"
      ]
    },
    {
      "cell_type": "code",
      "execution_count": null,
      "metadata": {
        "id": "A0KjuDf7XiqY"
      },
      "outputs": [],
      "source": [
        "n = 10\n",
        "test = None\n",
        "for a in ds_test:\n",
        "  test = a[0][n]\n",
        "  print(model.predict(a[0])[n])\n",
        "  break\n",
        "\n",
        "w = model.layers[1].get_weights()[0]\n",
        "b = model.layers[1].get_weights()[1]\n",
        "\n",
        "N = 28\n",
        "res = [0]*10\n",
        "for i in range(N):\n",
        "  for j in range(N):\n",
        "    for k in range(10):\n",
        "      res[k] += test[i][j] * w[i*28+j][k]\n",
        "for k in range(10):\n",
        "  res[k] += b[k]\n",
        "for e in res:\n",
        "  print(int(float(e)), int((float(e) - int(float(e))) * 2**15))\n",
        "for e in res:\n",
        "  print(float(e), end=\" \")"
      ]
    },
    {
      "cell_type": "markdown",
      "source": [
        "# Step3: Export it for Solidity"
      ],
      "metadata": {
        "id": "OsA9WpYOon8U"
      }
    },
    {
      "cell_type": "code",
      "source": [
        "def to_fixed(f):\n",
        "  f = float(f)\n",
        "  top = int(f)\n",
        "  bot = int((f - top) * 2**15)\n",
        "  return \"NeuralNet.Point(\"+str(top)+\",\"+str(bot)+\")\"\n",
        "\n",
        "def print_tab(tab):\n",
        "  s = [\"[\"]\n",
        "  for i in range(len(tab)):\n",
        "    s.append(\"[\")\n",
        "    s.append(\",\".join([to_fixed(a) for a in tab[i]]))\n",
        "    s.append(\"],\")\n",
        "  s = s[:-1]\n",
        "  s.append(\"]]\") # ?\n",
        "  print(\"\".join(s))\n",
        "\n",
        "print_tab(test)\n",
        "print_tab(w)\n",
        "print(\",\".join(map(to_fixed, b)))"
      ],
      "metadata": {
        "id": "91i7tW4dou_I"
      },
      "execution_count": null,
      "outputs": []
    },
    {
      "cell_type": "markdown",
      "source": [
        "# Step3: Export to solidity, 2nd try\n",
        "\n"
      ],
      "metadata": {
        "id": "3rzx0ZwIHX9z"
      }
    },
    {
      "cell_type": "code",
      "source": [
        "def print_t(t, maxi, w, nom):\n",
        "  l = []\n",
        "  c = 0\n",
        "  for i in range(len(w)):\n",
        "    for j in range(len(w[i])):\n",
        "      if abs(w[i][j]) > t:\n",
        "        l.append((i, j))\n",
        "        print(nom + \"[\"+str(i)+\"][\"+str(j)+\"] = \" + to_fixed(w[i][j])+\";\")\n",
        "        c += 1\n",
        "        if c > maxi:\n",
        "          print(\"OVERFLOW\")\n",
        "          return l\n",
        "  print(\"#\", c)\n",
        "  return l\n",
        "\n",
        "\n",
        "l = print_t(0.4, float(\"inf\"), w, \"w\")\n",
        "#print_t(0, 1000, test, \"test\")\n",
        "\n",
        "\n",
        "# Compute and makes sure our solidity code is still accurate\n",
        "res = [0]*10\n",
        "for i in range(N):\n",
        "  for j in range(N):\n",
        "    for k in range(10):\n",
        "      if (i*28+j, k) in l:\n",
        "        res[k] += test[i][j] * w[i*28+j][k]\n",
        "for k in range(10):\n",
        "  res[k] += b[k]\n",
        "for e in res:\n",
        "  print(int(float(e)), int((float(e) - int(float(e))) * 2**15))\n",
        "for e in res:\n",
        "  print(float(e), end=\" \")"
      ],
      "metadata": {
        "id": "-f9SPt49Hbno"
      },
      "execution_count": null,
      "outputs": []
    },
    {
      "cell_type": "markdown",
      "source": [
        "# Rewrite the model and re-evaluate it"
      ],
      "metadata": {
        "id": "np2bcwtCbmJz"
      }
    },
    {
      "cell_type": "code",
      "source": [
        "for i in range(28*28):\n",
        "  tmp = [w[i][j] * ((i, j) in l) for j in range(10)]\n",
        "  model.layers[1].weights[0][i].assign(tf.constant(tmp))\n",
        "\n",
        "print(model.evaluate(ds_test))"
      ],
      "metadata": {
        "id": "bzXd9WIgXIW1"
      },
      "execution_count": null,
      "outputs": []
    }
  ],
  "metadata": {
    "colab": {
      "collapsed_sections": [],
      "name": "Neural net MNIST",
      "private_outputs": true,
      "provenance": []
    },
    "kernelspec": {
      "display_name": "Python 3",
      "name": "python3"
    }
  },
  "nbformat": 4,
  "nbformat_minor": 0
}